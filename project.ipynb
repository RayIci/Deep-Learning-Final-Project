{
 "cells": [
  {
   "cell_type": "markdown",
   "metadata": {},
   "source": [
    "# Deep Learning - Final Project\n",
    "## Text to Image Synthesis with Generative Adversarial Networks\n",
    "Group: *Alex Valle (4854159)* & *Gabriele Francesco Berruti (4791919)*"
   ]
  }
 ],
 "metadata": {
  "language_info": {
   "name": "python"
  }
 },
 "nbformat": 4,
 "nbformat_minor": 2
}
