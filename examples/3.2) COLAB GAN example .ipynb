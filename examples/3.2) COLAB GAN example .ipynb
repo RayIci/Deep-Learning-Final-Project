{
 "cells": [
  {
   "cell_type": "code",
   "execution_count": null,
   "metadata": {
    "colab": {
     "base_uri": "https://localhost:8080/"
    },
    "executionInfo": {
     "elapsed": 33980,
     "status": "ok",
     "timestamp": 1729437138810,
     "user": {
      "displayName": "Gabriele",
      "userId": "13663186975992030346"
     },
     "user_tz": -120
    },
    "id": "eEgnbnh8e8Kv",
    "outputId": "daed5953-2774-4a42-d513-e22295b3216c"
   },
   "outputs": [],
   "source": [
    "!pip install git+https://github.com/openai/CLIP.git\n",
    "!pip install torch torchvision\n",
    "!pip install matplotlib\n",
    "!pip install tqdm\n",
    "!pip install lightning"
   ]
  },
  {
   "cell_type": "code",
   "execution_count": 2,
   "metadata": {
    "executionInfo": {
     "elapsed": 14751,
     "status": "ok",
     "timestamp": 1729437215594,
     "user": {
      "displayName": "Gabriele",
      "userId": "13663186975992030346"
     },
     "user_tz": -120
    },
    "id": "qCyn5rt6e1B5"
   },
   "outputs": [],
   "source": [
    "import os\n",
    "import sys\n",
    "\n",
    "module_path = os.path.join(os.getcwd(), '../src')\n",
    "sys.path.append(module_path)\n",
    "\n",
    "import torch\n",
    "from gan_t2i.models.CLIP import CLIPModel\n",
    "from gan_t2i.utils.model_loading import download_CLIP_model , CLIP_DATASETS\n",
    "\n",
    "\n",
    "\n",
    "from gan_t2i.datasets.DatasetFactory import DatasetFactory\n",
    "import torchvision.transforms as transforms\n",
    "import clip\n",
    "from PIL import Image"
   ]
  },
  {
   "cell_type": "code",
   "execution_count": 39,
   "metadata": {},
   "outputs": [],
   "source": [
    "from gan_t2i.models.GAN import WGAN\n",
    "#from gan_t2i.models.GAN_INT_CLS import GAN_INT_CLS\n",
    "#from gan_t2i.models.GAN_Vanilla import GAN"
   ]
  },
  {
   "cell_type": "code",
   "execution_count": null,
   "metadata": {
    "colab": {
     "base_uri": "https://localhost:8080/"
    },
    "executionInfo": {
     "elapsed": 3,
     "status": "ok",
     "timestamp": 1729437215594,
     "user": {
      "displayName": "Gabriele",
      "userId": "13663186975992030346"
     },
     "user_tz": -120
    },
    "id": "1hnfNGnMe1B6",
    "outputId": "fbd39e44-4fd6-4e62-d87c-3bea1b42a329"
   },
   "outputs": [],
   "source": [
    "print(torch.cuda.is_available())"
   ]
  },
  {
   "cell_type": "markdown",
   "metadata": {
    "id": "0ZM7nsGpe1B7"
   },
   "source": [
    "# Loading data from checkpoints"
   ]
  },
  {
   "cell_type": "code",
   "execution_count": null,
   "metadata": {
    "id": "6-0I2XVFe1B8",
    "outputId": "735afbdb-926f-4660-f882-a201799ec0b3"
   },
   "outputs": [],
   "source": [
    "checkpoints_path = download_CLIP_model(CLIP_DATASETS.FLOWERS)"
   ]
  },
  {
   "cell_type": "code",
   "execution_count": null,
   "metadata": {
    "id": "4XW3cR3qe1B9",
    "outputId": "fd3b43be-0b1b-4cc8-ff9f-3b82860bf179"
   },
   "outputs": [],
   "source": [
    "clip_model = CLIPModel.load(checkpoints_path)"
   ]
  },
  {
   "cell_type": "markdown",
   "metadata": {
    "id": "gPUNT7eCe1B-"
   },
   "source": [
    "------------------------------------"
   ]
  },
  {
   "cell_type": "code",
   "execution_count": 7,
   "metadata": {
    "id": "B_n7vtgAe1B-"
   },
   "outputs": [],
   "source": [
    "from torch.utils.data import DataLoader , SubsetRandomSampler"
   ]
  },
  {
   "cell_type": "markdown",
   "metadata": {
    "id": "PuSwpaCWe1B_"
   },
   "source": [
    "# Loading dataset"
   ]
  },
  {
   "cell_type": "code",
   "execution_count": 8,
   "metadata": {
    "id": "PvKwMvW3e1B_"
   },
   "outputs": [],
   "source": [
    "\"\"\" Text Transformation\n",
    "\n",
    "You need to tokenize your text before passing it to the model.\n",
    "\"\"\"\n",
    "def tokenize_text(text):\n",
    "\n",
    "    # Try except is needed due to error thrown by CLIP model that limit the context size\n",
    "    # to 77 tokens so we need to split the text in smaller chunks and keep only a small portion\n",
    "    # of it if the text is too long\n",
    "    try:\n",
    "        return clip.tokenize([text])[0]\n",
    "    except:\n",
    "        return clip.tokenize([text.split(\".\")[0]])[0]\n"
   ]
  },
  {
   "cell_type": "code",
   "execution_count": 9,
   "metadata": {
    "id": "i18mFwP6e1CA"
   },
   "outputs": [],
   "source": [
    "\"\"\" Image transformations \"\"\"\n",
    "transform_img = transforms.Compose([\n",
    "    transforms.Resize(64, interpolation=Image.BICUBIC),\n",
    "    transforms.CenterCrop(64),\n",
    "    transforms.ToTensor(),\n",
    "\n",
    "    # Previously computed mean and std\n",
    "    transforms.Normalize([0.4355, 0.3777, 0.2879], [0.2571, 0.2028, 0.2101])\n",
    "])"
   ]
  },
  {
   "cell_type": "code",
   "execution_count": null,
   "metadata": {
    "id": "XGZ_XrFFe1CA",
    "outputId": "d4f43efc-7c64-4269-be44-c049173757b4"
   },
   "outputs": [],
   "source": [
    "dataset = DatasetFactory.Flowers(os.path.join(os.getcwd(), \"..\", \"data\"), transform_img=transform_img, transform_caption=tokenize_text)"
   ]
  },
  {
   "cell_type": "code",
   "execution_count": null,
   "metadata": {
    "id": "4Kb20UIce1CA",
    "outputId": "2f91ac84-253d-493f-d9ed-872489ceacf9"
   },
   "outputs": [],
   "source": [
    "# Create train, validation and test set     NOTE: We are using small subset of the dataset for this example\n",
    "#\n",
    "# SMALL DATASET                                           This may and will cause overfitting this is only a demo\n",
    "train_size = int(0.8 * len(dataset))\n",
    "val_size = int(0.01 * len(dataset))\n",
    "test_size = int(0.02 * len(dataset))\n",
    "\n",
    "# BIG DATASET\n",
    "#train_size = int(0.8 * len(dataset))\n",
    "#val_size = int(0.4 * len(dataset))\n",
    "#test_size = int(0.2 * len(dataset))\n",
    "\n",
    "print(\"train_size: {} , val_size: {} , test_size: {}\".format(train_size,val_size,test_size))\n",
    "\n",
    "# Cration of train, validation and test set indices and samplers\n",
    "train_indices = list(range(train_size))\n",
    "val_indices = list(range(train_size, train_size + val_size))\n",
    "test_indices = list(range(train_size + val_size, train_size + val_size + test_size))\n",
    "\n",
    "train_sampler = SubsetRandomSampler(train_indices)\n",
    "val_sampler = SubsetRandomSampler(val_indices)\n",
    "test_sampler = SubsetRandomSampler(test_indices)\n",
    "\n",
    "batch_size=256\n",
    "# Creation of train, validation and test dataloaders\n",
    "train_loader = DataLoader(dataset, batch_size=batch_size, sampler=train_sampler, pin_memory=True)\n",
    "val_loader = DataLoader(dataset, batch_size=batch_size, sampler=val_sampler, pin_memory=True)\n",
    "test_loader = DataLoader(dataset, batch_size=batch_size, sampler=test_sampler, pin_memory=True)"
   ]
  },
  {
   "cell_type": "code",
   "execution_count": null,
   "metadata": {
    "id": "RjMD6lX4e1CB",
    "outputId": "42df118d-edfd-43ee-fbd3-edb3c82ffca2"
   },
   "outputs": [],
   "source": [
    "import matplotlib.pyplot as plt\n",
    "import torchvision.transforms as transforms\n",
    "import torch\n",
    "\n",
    "def show_images(images, num_images=4):\n",
    "    \"\"\"\n",
    "    Visualizza un set di immagini.\n",
    "\n",
    "    Parameters:\n",
    "        images (torch.Tensor): Le immagini da visualizzare. Devono avere forma (N, C, H, W).\n",
    "        num_images (int): Il numero di immagini da visualizzare.\n",
    "    \"\"\"\n",
    "    # Seleziona solo il numero di immagini specificato\n",
    "    images = images[:num_images]\n",
    "\n",
    "    # Cambia l'ordine dei canali da CHW a HWC per la visualizzazione\n",
    "    images = images.permute(0, 2, 3, 1)  # (N, H, W, C)\n",
    "\n",
    "    # Normalizza le immagini nel range [0, 1]\n",
    "    images = (images - images.min()) / (images.max() - images.min())\n",
    "\n",
    "    # Crea una figura per visualizzare le immagini\n",
    "    fig, axs = plt.subplots(1, num_images, figsize=(num_images * 3, 3))\n",
    "\n",
    "    for i in range(num_images):\n",
    "        # Mostra l'immagine\n",
    "        axs[i].imshow(images[i].cpu().detach().numpy())\n",
    "        axs[i].axis('off')  # Nasconde gli assi per una visualizzazione più pulita\n",
    "\n",
    "    plt.show()\n",
    "\n",
    "\n",
    "for images, captions, _ in test_loader:\n",
    "\n",
    "    print(\"Min values : {}  | Max Values : {} | type : {}\".format(images.min().item(),images.max().item(),images.dtype))\n",
    "    show_images(images, num_images=4)\n",
    "\n",
    "    # Rompe il ciclo dopo il primo batch per facilitare la visualizzazione\n",
    "    break\n"
   ]
  },
  {
   "cell_type": "markdown",
   "metadata": {
    "id": "zpcjDfoXe1CC"
   },
   "source": [
    "---------------------------------------"
   ]
  },
  {
   "cell_type": "markdown",
   "metadata": {
    "id": "3WdyVIXDe1CC"
   },
   "source": [
    "# Creating the GAN model and training it"
   ]
  },
  {
   "cell_type": "markdown",
   "metadata": {
    "id": "xRiidvNDe1CC"
   },
   "source": [
    "- Get the image and text embedding"
   ]
  },
  {
   "cell_type": "code",
   "execution_count": null,
   "metadata": {
    "id": "IYuPJycEe1CC",
    "outputId": "7ca887b8-40b2-47a2-fe26-c243e0b60757"
   },
   "outputs": [],
   "source": [
    "# Per ottenere l'ultimo livello\n",
    "dim_img_size , dim_text_size = clip_model.get_output_dimensions()\n",
    "print(\"Cosa ritorna CLIP due vettori da: :\", dim_img_size[1] , dim_text_size[1])"
   ]
  },
  {
   "cell_type": "code",
   "execution_count": null,
   "metadata": {
    "id": "S8_MBBuqe1CD",
    "outputId": "51f9fe3f-4592-4eee-9f5d-609612f056d6"
   },
   "outputs": [],
   "source": [
    "embedding_size = dim_text_size[1]                     # dimensione di output quando codifico il testo con CLIP\n",
    "p_emb_dim = 128\n",
    "WGAN_model = WGAN(clip_model,embedding_size,p_emb_dim)\n",
    "\n",
    "print(\"Alla classe WGAN viene passato il modello di CLIP gia addestrato da prima sul dataset Flower e due dimensioni (output di clip = {}, proiezione = {})\".format(embedding_size,p_emb_dim))\n"
   ]
  },
  {
   "cell_type": "code",
   "execution_count": null,
   "metadata": {
    "id": "wghYwt3se1CD",
    "outputId": "d4c8ec09-c0c0-48f4-b4cb-79ae6cff7d8a"
   },
   "outputs": [],
   "source": [
    "checkpoints_path = os.path.join(os.getcwd(), \"checkpoints_WGAN2\")\n",
    "\n",
    "WGAN_model.fit(\n",
    "    train_dataloader = train_loader,\n",
    "    val_dataloader = val_loader,\n",
    "    num_epochs = 100,\n",
    "    save_path=checkpoints_path\n",
    ")"
   ]
  },
  {
   "cell_type": "markdown",
   "metadata": {
    "id": "fmsmMwYWe1CE"
   },
   "source": [
    "---------------"
   ]
  },
  {
   "cell_type": "markdown",
   "metadata": {},
   "source": [
    "# Load trained Model and predict an image based on the caption"
   ]
  },
  {
   "cell_type": "code",
   "execution_count": null,
   "metadata": {
    "id": "vCQGDGxEe1CE",
    "outputId": "2d7d3684-0688-4cc6-9456-a52a5163a5ca"
   },
   "outputs": [],
   "source": [
    "checkpoints_full_path = os.path.join(os.getcwd(), \"checkpoints_WGAN2\\WGAN_epoch-2.pt\") # choose your epoch\n",
    "aux_model = WGAN(clip_model,embedding_size,p_emb_dim)\n",
    "WGAN_model = aux_model.load(model_pt_filepath=checkpoints_full_path)"
   ]
  },
  {
   "cell_type": "code",
   "execution_count": null,
   "metadata": {
    "id": "gw-nbqdhe1CE",
    "outputId": "287df294-ec95-4bd8-b9ac-3f8b265b6edf"
   },
   "outputs": [],
   "source": [
    "#for (images, captions, _) in test_loader:\n",
    "for (images, captions, _) in train_loader:\n",
    "    generated_images = WGAN_model.predict(captions)\n",
    "    print(\"generated_images shape {} \".format(generated_images.shape))  # [256, 3, 224, 224]\n",
    "\n",
    "    print(\"Min values : {}  | Max Values : {} | type : {}\".format(generated_images.min().item(),generated_images.max().item(),generated_images.dtype))\n",
    "    show_images(generated_images,num_images=4)\n",
    "\n",
    "    break"
   ]
  },
  {
   "cell_type": "markdown",
   "metadata": {
    "id": "teuO5H1se1CE"
   },
   "source": [
    "------------------"
   ]
  },
  {
   "cell_type": "markdown",
   "metadata": {
    "id": "GVz_PWvfe1CE"
   },
   "source": [
    "# Load model from an epoch and start training from there"
   ]
  },
  {
   "cell_type": "code",
   "execution_count": null,
   "metadata": {
    "id": "Sq5MAdPce1CE"
   },
   "outputs": [],
   "source": [
    "checkpoints_full_path = os.path.join(os.getcwd(), \"checkpoints_WGAN\\WGAN_epoch-2.pt\")\n",
    "aux_model = WGAN(clip_model,embedding_size,p_emb_dim)\n",
    "WGAN_model = aux_model.load(model_pt_filepath=checkpoints_full_path)"
   ]
  },
  {
   "cell_type": "code",
   "execution_count": null,
   "metadata": {
    "id": "oN069ikCe1CF"
   },
   "outputs": [],
   "source": [
    "checkpoints_path = os.path.join(os.getcwd(), \"checkpoints_WGAN2\")\n",
    "\n",
    "WGAN_model.fit(\n",
    "    train_dataloader = train_loader,\n",
    "    val_dataloader = val_loader,\n",
    "    num_epochs = 2,\n",
    "    save_path=checkpoints_path,\n",
    "    starting_epoch = 2\n",
    ")"
   ]
  }
 ],
 "metadata": {
  "colab": {
   "provenance": []
  },
  "kernelspec": {
   "display_name": "Python 3",
   "language": "python",
   "name": "python3"
  },
  "language_info": {
   "codemirror_mode": {
    "name": "ipython",
    "version": 3
   },
   "file_extension": ".py",
   "mimetype": "text/x-python",
   "name": "python",
   "nbconvert_exporter": "python",
   "pygments_lexer": "ipython3",
   "version": "3.11.1"
  }
 },
 "nbformat": 4,
 "nbformat_minor": 0
}
