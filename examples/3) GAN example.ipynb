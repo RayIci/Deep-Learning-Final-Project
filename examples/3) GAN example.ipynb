{
 "cells": [
  {
   "cell_type": "code",
   "execution_count": 2,
   "metadata": {},
   "outputs": [],
   "source": [
    "import os\n",
    "import sys\n",
    "\n",
    "module_path = os.path.join(os.getcwd(), '../src')\n",
    "sys.path.append(module_path)\n",
    "\n",
    "import torch \n",
    "from gan_t2i.models.CLIP import CLIPModel\n",
    "\n",
    "from gan_t2i.models.GAN import WGAN\n",
    "\n",
    "from gan_t2i.datasets.DatasetFactory import DatasetFactory\n",
    "import torchvision.transforms as transforms\n",
    "import clip\n",
    "from PIL import Image"
   ]
  },
  {
   "cell_type": "markdown",
   "metadata": {},
   "source": [
    "# Loading data from checkpoints "
   ]
  },
  {
   "cell_type": "code",
   "execution_count": null,
   "metadata": {},
   "outputs": [],
   "source": [
    "checkpoints_path = os.path.join(os.getcwd(), \"checkpoints\")\n",
    "\n",
    "checkpoint = torch.load(os.path.join(checkpoints_path, \"CLIPModel_epoch-2.pt\"))\n",
    "clip_model = CLIPModel()\n",
    "clip_model.load_state_dict(checkpoint['model_state_dict'])"
   ]
  },
  {
   "cell_type": "markdown",
   "metadata": {},
   "source": [
    "# Loading dataset"
   ]
  },
  {
   "cell_type": "code",
   "execution_count": 3,
   "metadata": {},
   "outputs": [],
   "source": [
    "\"\"\" Text Transformation\n",
    "\n",
    "You need to tokenize your text before passing it to the model.\n",
    "\"\"\"\n",
    "def tokenize_text(text):\n",
    "    \n",
    "    # Try except is needed due to error thrown by CLIP model that limit the context size\n",
    "    # to 77 tokens so we need to split the text in smaller chunks and keep only a small portion\n",
    "    # of it if the text is too long\n",
    "    try:\n",
    "        return clip.tokenize([text])[0]\n",
    "    except:\n",
    "        return clip.tokenize([text.split(\".\")[0]])[0]    \n",
    "    "
   ]
  },
  {
   "cell_type": "code",
   "execution_count": 4,
   "metadata": {},
   "outputs": [
    {
     "ename": "NameError",
     "evalue": "name 'Image' is not defined",
     "output_type": "error",
     "traceback": [
      "\u001b[0;31m---------------------------------------------------------------------------\u001b[0m",
      "\u001b[0;31mNameError\u001b[0m                                 Traceback (most recent call last)",
      "Cell \u001b[0;32mIn[4], line 3\u001b[0m\n\u001b[1;32m      1\u001b[0m \u001b[38;5;124;03m\"\"\" Image transformations \"\"\"\u001b[39;00m\n\u001b[1;32m      2\u001b[0m transform_img \u001b[38;5;241m=\u001b[39m transforms\u001b[38;5;241m.\u001b[39mCompose([\n\u001b[0;32m----> 3\u001b[0m     transforms\u001b[38;5;241m.\u001b[39mResize(\u001b[38;5;241m224\u001b[39m, interpolation\u001b[38;5;241m=\u001b[39m\u001b[43mImage\u001b[49m\u001b[38;5;241m.\u001b[39mBICUBIC),\n\u001b[1;32m      4\u001b[0m     transforms\u001b[38;5;241m.\u001b[39mCenterCrop(\u001b[38;5;241m224\u001b[39m),\n\u001b[1;32m      5\u001b[0m     transforms\u001b[38;5;241m.\u001b[39mToTensor(),\n\u001b[1;32m      6\u001b[0m     \n\u001b[1;32m      7\u001b[0m     \u001b[38;5;66;03m# Previously computed mean and std\u001b[39;00m\n\u001b[1;32m      8\u001b[0m     transforms\u001b[38;5;241m.\u001b[39mNormalize([\u001b[38;5;241m0.4355\u001b[39m, \u001b[38;5;241m0.3777\u001b[39m, \u001b[38;5;241m0.2879\u001b[39m], [\u001b[38;5;241m0.2571\u001b[39m, \u001b[38;5;241m0.2028\u001b[39m, \u001b[38;5;241m0.2101\u001b[39m])\n\u001b[1;32m      9\u001b[0m ])\n",
      "\u001b[0;31mNameError\u001b[0m: name 'Image' is not defined"
     ]
    }
   ],
   "source": [
    "\"\"\" Image transformations \"\"\"\n",
    "transform_img = transforms.Compose([\n",
    "    transforms.Resize(224, interpolation=Image.BICUBIC),\n",
    "    transforms.CenterCrop(224),\n",
    "    transforms.ToTensor(),\n",
    "    \n",
    "    # Previously computed mean and std\n",
    "    transforms.Normalize([0.4355, 0.3777, 0.2879], [0.2571, 0.2028, 0.2101])\n",
    "])"
   ]
  },
  {
   "cell_type": "code",
   "execution_count": null,
   "metadata": {},
   "outputs": [],
   "source": [
    "dataset = DatasetFactory.Flowers(os.path.join(os.getcwd(), \"..\", \"data\"), transform_img=transform_img, transform_caption=tokenize_text)"
   ]
  },
  {
   "cell_type": "markdown",
   "metadata": {},
   "source": [
    "# Creating the GAN model and training it"
   ]
  },
  {
   "cell_type": "code",
   "execution_count": null,
   "metadata": {},
   "outputs": [],
   "source": [
    "embedding_size = 128\n",
    "p_emb_dim = 128\n",
    "WGAN_model = WGAN(clip_model,embedding_size,p_emb_dim)\n"
   ]
  }
 ],
 "metadata": {
  "kernelspec": {
   "display_name": "Python 3",
   "language": "python",
   "name": "python3"
  },
  "language_info": {
   "codemirror_mode": {
    "name": "ipython",
    "version": 3
   },
   "file_extension": ".py",
   "mimetype": "text/x-python",
   "name": "python",
   "nbconvert_exporter": "python",
   "pygments_lexer": "ipython3",
   "version": "3.11.6"
  }
 },
 "nbformat": 4,
 "nbformat_minor": 2
}
