{
 "cells": [
  {
   "cell_type": "code",
   "execution_count": 1,
   "metadata": {},
   "outputs": [],
   "source": [
    "import os\n",
    "import sys\n",
    "\n",
    "module_path = os.path.join(os.getcwd(), '../src')\n",
    "sys.path.append(module_path)\n",
    "\n",
    "import torch \n",
    "from gan_t2i.models.CLIP import CLIPModel\n",
    "from gan_t2i.utils.model_loading import download_CLIP_model , CLIP_DATASETS\n",
    "\n",
    "\n",
    "from gan_t2i.models.GAN import WGAN\n",
    "\n",
    "from gan_t2i.datasets.DatasetFactory import DatasetFactory\n",
    "import torchvision.transforms as transforms\n",
    "import clip\n",
    "from PIL import Image"
   ]
  },
  {
   "cell_type": "code",
   "execution_count": 2,
   "metadata": {},
   "outputs": [
    {
     "name": "stdout",
     "output_type": "stream",
     "text": [
      "True\n"
     ]
    }
   ],
   "source": [
    "print(torch.cuda.is_available())"
   ]
  },
  {
   "cell_type": "markdown",
   "metadata": {},
   "source": [
    "# Loading data from checkpoints "
   ]
  },
  {
   "cell_type": "code",
   "execution_count": 3,
   "metadata": {},
   "outputs": [
    {
     "name": "stdout",
     "output_type": "stream",
     "text": [
      "\u001b[92mCLIP model FLOWERS already exits at /home/xxx/Desktop/Deep Learning/Deep-Learning-Final-Project/examples/models_weights/CLIP/CLIP~FT_FLOWERS/CLIP~FT_FLOWERS.pt\u001b[0m\n"
     ]
    }
   ],
   "source": [
    "checkpoints_path = download_CLIP_model(CLIP_DATASETS.FLOWERS)"
   ]
  },
  {
   "cell_type": "code",
   "execution_count": 4,
   "metadata": {},
   "outputs": [
    {
     "name": "stdout",
     "output_type": "stream",
     "text": [
      "Model loaded on device: cuda\n"
     ]
    }
   ],
   "source": [
    "clip_model = CLIPModel.load(checkpoints_path)"
   ]
  },
  {
   "cell_type": "markdown",
   "metadata": {},
   "source": [
    "------------------------------------"
   ]
  },
  {
   "cell_type": "code",
   "execution_count": 5,
   "metadata": {},
   "outputs": [],
   "source": [
    "from torch.utils.data import DataLoader , SubsetRandomSampler"
   ]
  },
  {
   "cell_type": "markdown",
   "metadata": {},
   "source": [
    "# Loading dataset"
   ]
  },
  {
   "cell_type": "code",
   "execution_count": 6,
   "metadata": {},
   "outputs": [],
   "source": [
    "\"\"\" Text Transformation\n",
    "\n",
    "You need to tokenize your text before passing it to the model.\n",
    "\"\"\"\n",
    "def tokenize_text(text):\n",
    "    \n",
    "    # Try except is needed due to error thrown by CLIP model that limit the context size\n",
    "    # to 77 tokens so we need to split the text in smaller chunks and keep only a small portion\n",
    "    # of it if the text is too long\n",
    "    try:\n",
    "        return clip.tokenize([text])[0]\n",
    "    except:\n",
    "        return clip.tokenize([text.split(\".\")[0]])[0]    \n",
    "    "
   ]
  },
  {
   "cell_type": "code",
   "execution_count": 7,
   "metadata": {},
   "outputs": [],
   "source": [
    "\"\"\" Image transformations \"\"\"\n",
    "transform_img = transforms.Compose([\n",
    "    transforms.Resize(224, interpolation=Image.BICUBIC),\n",
    "    transforms.CenterCrop(224),\n",
    "    transforms.ToTensor(),\n",
    "    \n",
    "    # Previously computed mean and std\n",
    "    transforms.Normalize([0.4355, 0.3777, 0.2879], [0.2571, 0.2028, 0.2101])\n",
    "])"
   ]
  },
  {
   "cell_type": "code",
   "execution_count": 8,
   "metadata": {},
   "outputs": [
    {
     "name": "stdout",
     "output_type": "stream",
     "text": [
      "Captions already downloaded\n",
      "images already downloaded\n",
      "Captions already extracted\n",
      "images already extracted\n",
      "\u001b[92mThe dataset is already stored in HDF5 format\u001b[0m\n"
     ]
    }
   ],
   "source": [
    "dataset = DatasetFactory.Flowers(os.path.join(os.getcwd(), \"..\", \"data\"), transform_img=transform_img, transform_caption=tokenize_text)"
   ]
  },
  {
   "cell_type": "code",
   "execution_count": 9,
   "metadata": {},
   "outputs": [],
   "source": [
    "# Create train, validation and test set     NOTE: We are using small subset of the dataset for this example\n",
    "#                                                 This may and will cause overfitting this is only a demo\n",
    "train_size = int(0.05 * len(dataset))       \n",
    "val_size = int(0.02 * len(dataset))\n",
    "test_size = int(0.02 * len(dataset))\n",
    "\n",
    "# Cration of train, validation and test set indices and samplers\n",
    "train_indices = list(range(train_size))\n",
    "val_indices = list(range(train_size, train_size + val_size))\n",
    "test_indices = list(range(train_size + val_size, train_size + val_size + test_size))\n",
    "\n",
    "train_sampler = SubsetRandomSampler(train_indices)\n",
    "val_sampler = SubsetRandomSampler(val_indices)\n",
    "test_sampler = SubsetRandomSampler(test_indices)\n",
    "\n",
    "# Creation of train, validation and test dataloaders\n",
    "train_loader = DataLoader(dataset, batch_size=16, sampler=train_sampler, pin_memory=True)\n",
    "val_loader = DataLoader(dataset, batch_size=16, sampler=val_sampler, pin_memory=True)\n",
    "test_loader = DataLoader(dataset, batch_size=16, sampler=test_sampler, pin_memory=True)"
   ]
  },
  {
   "cell_type": "markdown",
   "metadata": {},
   "source": [
    "---------------------------------------"
   ]
  },
  {
   "cell_type": "markdown",
   "metadata": {},
   "source": [
    "# Creating the GAN model and training it"
   ]
  },
  {
   "cell_type": "markdown",
   "metadata": {},
   "source": [
    "- Get the image and text embedding"
   ]
  },
  {
   "cell_type": "code",
   "execution_count": 10,
   "metadata": {},
   "outputs": [
    {
     "name": "stdout",
     "output_type": "stream",
     "text": [
      "tensor([[49406, 34246,  4160, 49407,     0,     0,     0,     0,     0,     0,\n",
      "             0,     0,     0,     0,     0,     0,     0,     0,     0,     0,\n",
      "             0,     0,     0,     0,     0,     0,     0,     0,     0,     0,\n",
      "             0,     0,     0,     0,     0,     0,     0,     0,     0,     0,\n",
      "             0,     0,     0,     0,     0,     0,     0,     0,     0,     0,\n",
      "             0,     0,     0,     0,     0,     0,     0,     0,     0,     0,\n",
      "             0,     0,     0,     0,     0,     0,     0,     0,     0,     0,\n",
      "             0,     0,     0,     0,     0,     0,     0]], device='cuda:0',\n",
      "       dtype=torch.int32)\n",
      "Ultimo livello del modello: 512 512\n"
     ]
    }
   ],
   "source": [
    "# Per ottenere l'ultimo livello\n",
    "dim_img_size , dim_text_size = clip_model.get_output_dimensions()\n",
    "print(\"Ultimo livello del modello:\", dim_img_size[1] , dim_text_size[1])"
   ]
  },
  {
   "cell_type": "code",
   "execution_count": 11,
   "metadata": {},
   "outputs": [],
   "source": [
    "embedding_size = dim_text_size[1]\n",
    "p_emb_dim = 128\n",
    "WGAN_model = WGAN(clip_model,embedding_size,p_emb_dim)\n"
   ]
  },
  {
   "cell_type": "code",
   "execution_count": 12,
   "metadata": {},
   "outputs": [
    {
     "name": "stdout",
     "output_type": "stream",
     "text": [
      "Training on device:  cuda\n",
      "One : tensor([1.], device='cuda:0') | Mone : tensor([-1.], device='cuda:0') \n",
      "epoch iter 0 \n"
     ]
    },
    {
     "name": "stderr",
     "output_type": "stream",
     "text": [
      "Epoch [1/1] Batch [256/256]: Loss Discriminator: -0.015878Loss Generator: -0.269301: 100%|██████████| 256/256 [01:22<00:00,  3.12it/s]\n"
     ]
    }
   ],
   "source": [
    "checkpoints_path = os.path.join(os.getcwd(), \"checkpoints\")\n",
    "\n",
    "WGAN_model.fit(\n",
    "    train_dataloader = train_loader, \n",
    "    val_dataloader = val_loader,\n",
    "    num_epochs = 1, \n",
    "    save_path=checkpoints_path\n",
    ")"
   ]
  }
 ],
 "metadata": {
  "kernelspec": {
   "display_name": "Python 3",
   "language": "python",
   "name": "python3"
  },
  "language_info": {
   "codemirror_mode": {
    "name": "ipython",
    "version": 3
   },
   "file_extension": ".py",
   "mimetype": "text/x-python",
   "name": "python",
   "nbconvert_exporter": "python",
   "pygments_lexer": "ipython3",
   "version": "3.11.6"
  }
 },
 "nbformat": 4,
 "nbformat_minor": 2
}
