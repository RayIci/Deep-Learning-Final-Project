{
 "cells": [
  {
   "cell_type": "code",
   "execution_count": 1,
   "metadata": {},
   "outputs": [],
   "source": [
    "import os\n",
    "import sys\n",
    "\n",
    "module_path = os.path.join(os.getcwd(), '../src')\n",
    "sys.path.append(module_path)\n",
    "\n",
    "import torch \n",
    "from gan_t2i.models.CLIP import CLIPModel\n",
    "from gan_t2i.utils.model_loading import download_CLIP_model , CLIP_DATASETS\n",
    "\n",
    "\n",
    "from gan_t2i.models.GAN import WGAN\n",
    "\n",
    "\n",
    "from gan_t2i.datasets.DatasetFactory import DatasetFactory\n",
    "import torchvision.transforms as transforms\n",
    "import clip\n",
    "from PIL import Image"
   ]
  },
  {
   "cell_type": "code",
   "execution_count": null,
   "metadata": {},
   "outputs": [],
   "source": [
    "print(torch.cuda.is_available())"
   ]
  },
  {
   "cell_type": "markdown",
   "metadata": {},
   "source": [
    "# Loading data from checkpoints "
   ]
  },
  {
   "cell_type": "code",
   "execution_count": null,
   "metadata": {},
   "outputs": [],
   "source": [
    "checkpoints_path = download_CLIP_model(CLIP_DATASETS.FLOWERS)"
   ]
  },
  {
   "cell_type": "code",
   "execution_count": null,
   "metadata": {},
   "outputs": [],
   "source": [
    "clip_model = CLIPModel.load(checkpoints_path)"
   ]
  },
  {
   "cell_type": "markdown",
   "metadata": {},
   "source": [
    "------------------------------------"
   ]
  },
  {
   "cell_type": "code",
   "execution_count": 5,
   "metadata": {},
   "outputs": [],
   "source": [
    "from torch.utils.data import DataLoader , SubsetRandomSampler"
   ]
  },
  {
   "cell_type": "markdown",
   "metadata": {},
   "source": [
    "# Loading dataset"
   ]
  },
  {
   "cell_type": "code",
   "execution_count": 6,
   "metadata": {},
   "outputs": [],
   "source": [
    "\"\"\" Text Transformation\n",
    "\n",
    "You need to tokenize your text before passing it to the model.\n",
    "\"\"\"\n",
    "def tokenize_text(text):\n",
    "    \n",
    "    # Try except is needed due to error thrown by CLIP model that limit the context size\n",
    "    # to 77 tokens so we need to split the text in smaller chunks and keep only a small portion\n",
    "    # of it if the text is too long\n",
    "    try:\n",
    "        return clip.tokenize([text])[0]\n",
    "    except:\n",
    "        return clip.tokenize([text.split(\".\")[0]])[0]    \n",
    "    "
   ]
  },
  {
   "cell_type": "code",
   "execution_count": 7,
   "metadata": {},
   "outputs": [],
   "source": [
    "\"\"\" Image transformations \"\"\"\n",
    "transform_img = transforms.Compose([\n",
    "    transforms.Resize(224, interpolation=Image.BICUBIC),\n",
    "    transforms.CenterCrop(224),\n",
    "    transforms.ToTensor(),\n",
    "    \n",
    "    # Previously computed mean and std\n",
    "    transforms.Normalize([0.4355, 0.3777, 0.2879], [0.2571, 0.2028, 0.2101])\n",
    "])"
   ]
  },
  {
   "cell_type": "code",
   "execution_count": null,
   "metadata": {},
   "outputs": [],
   "source": [
    "dataset = DatasetFactory.Flowers(os.path.join(os.getcwd(), \"..\", \"data\"), transform_img=transform_img, transform_caption=tokenize_text)"
   ]
  },
  {
   "cell_type": "code",
   "execution_count": null,
   "metadata": {},
   "outputs": [],
   "source": [
    "# Create train, validation and test set     NOTE: We are using small subset of the dataset for this example\n",
    "#      \n",
    "# SMALL DATASET                                           This may and will cause overfitting this is only a demo\n",
    "train_size = int(0.01 * len(dataset))       \n",
    "val_size = int(0.01 * len(dataset))\n",
    "test_size = int(0.02 * len(dataset))\n",
    "\n",
    "# BIG DATASET\n",
    "#train_size = int(0.8 * len(dataset))       \n",
    "#val_size = int(0.4 * len(dataset))\n",
    "#test_size = int(0.2 * len(dataset))\n",
    "\n",
    "print(\"train_size: {} , val_size: {} , test_size: {}\".format(train_size,val_size,test_size))\n",
    "\n",
    "# Cration of train, validation and test set indices and samplers\n",
    "train_indices = list(range(train_size))\n",
    "val_indices = list(range(train_size, train_size + val_size))\n",
    "test_indices = list(range(train_size + val_size, train_size + val_size + test_size))\n",
    "\n",
    "train_sampler = SubsetRandomSampler(train_indices)\n",
    "val_sampler = SubsetRandomSampler(val_indices)\n",
    "test_sampler = SubsetRandomSampler(test_indices)\n",
    "\n",
    "batch_size=256\n",
    "# Creation of train, validation and test dataloaders\n",
    "train_loader = DataLoader(dataset, batch_size=batch_size, sampler=train_sampler, pin_memory=True)\n",
    "val_loader = DataLoader(dataset, batch_size=batch_size, sampler=val_sampler, pin_memory=True)\n",
    "test_loader = DataLoader(dataset, batch_size=batch_size, sampler=test_sampler, pin_memory=True)"
   ]
  },
  {
   "cell_type": "code",
   "execution_count": null,
   "metadata": {},
   "outputs": [],
   "source": [
    "import matplotlib.pyplot as plt\n",
    "import torchvision.transforms as transforms\n",
    "import torch\n",
    "\n",
    "def show_images(images, num_images=4):\n",
    "    \"\"\"\n",
    "    Visualizza un set di immagini.\n",
    "\n",
    "    Parameters:\n",
    "        images (torch.Tensor): Le immagini da visualizzare. Devono avere forma (N, C, H, W).\n",
    "        num_images (int): Il numero di immagini da visualizzare.\n",
    "    \"\"\"\n",
    "    # Seleziona solo il numero di immagini specificato\n",
    "    images = images[:num_images]\n",
    "\n",
    "    # Cambia l'ordine dei canali da CHW a HWC per la visualizzazione\n",
    "    images = images.permute(0, 2, 3, 1)  # (N, H, W, C)\n",
    "\n",
    "    # Normalizza le immagini nel range [0, 1]\n",
    "    images = (images - images.min()) / (images.max() - images.min())\n",
    "    \n",
    "    # Crea una figura per visualizzare le immagini\n",
    "    fig, axs = plt.subplots(1, num_images, figsize=(num_images * 3, 3))\n",
    "\n",
    "    for i in range(num_images):\n",
    "        # Mostra l'immagine\n",
    "        axs[i].imshow(images[i].cpu().detach().numpy())\n",
    "        axs[i].axis('off')  # Nasconde gli assi per una visualizzazione più pulita\n",
    "\n",
    "    plt.show()\n",
    "\n",
    "\n",
    "for images, captions, _ in test_loader:  \n",
    "   \n",
    "    print(\"Min values : {}  | Max Values : {} | type : {}\".format(images.min().item(),images.max().item(),images.dtype))\n",
    "    show_images(images, num_images=4)  \n",
    "    \n",
    "    # Rompe il ciclo dopo il primo batch per facilitare la visualizzazione\n",
    "    break\n"
   ]
  },
  {
   "cell_type": "markdown",
   "metadata": {},
   "source": [
    "---------------------------------------"
   ]
  },
  {
   "cell_type": "markdown",
   "metadata": {},
   "source": [
    "# Creating the GAN model and training it"
   ]
  },
  {
   "cell_type": "markdown",
   "metadata": {},
   "source": [
    "- Get the image and text embedding "
   ]
  },
  {
   "cell_type": "code",
   "execution_count": null,
   "metadata": {},
   "outputs": [],
   "source": [
    "# Per ottenere l'ultimo livello\n",
    "dim_img_size , dim_text_size = clip_model.get_output_dimensions()\n",
    "print(\"Cosa ritorna CLIP due vettori da: :\", dim_img_size[1] , dim_text_size[1])"
   ]
  },
  {
   "cell_type": "code",
   "execution_count": null,
   "metadata": {},
   "outputs": [],
   "source": [
    "embedding_size = dim_text_size[1]                     # dimensione di output quando codifico il testo con CLIP \n",
    "p_emb_dim = 128\n",
    "WGAN_model = WGAN(clip_model,embedding_size,p_emb_dim)\n",
    "\n",
    "print(\"Alla classe WGAN viene passato il modello di CLIP gia addestrato da prima sul dataset Flower e due dimensioni (output di clip = {}, proiezione = {})\".format(embedding_size,p_emb_dim))\n"
   ]
  },
  {
   "cell_type": "code",
   "execution_count": null,
   "metadata": {},
   "outputs": [],
   "source": [
    "checkpoints_path = os.path.join(os.getcwd(), \"checkpoints_WGAN\")\n",
    "\n",
    "WGAN_model.fit(\n",
    "    train_dataloader = train_loader, \n",
    "    val_dataloader = val_loader,\n",
    "    num_epochs = 1, \n",
    "    save_path=checkpoints_path\n",
    ")"
   ]
  },
  {
   "cell_type": "markdown",
   "metadata": {},
   "source": [
    "----------------------------------------------------"
   ]
  },
  {
   "cell_type": "markdown",
   "metadata": {},
   "source": [
    "# Load trained Model and predict an image based on the caption"
   ]
  },
  {
   "cell_type": "code",
   "execution_count": null,
   "metadata": {},
   "outputs": [],
   "source": [
    "checkpoints_full_path = os.path.join(os.getcwd(), \"checkpoints_WGAN\\WGAN_epoch-2.pt\") # choose your epoch\n",
    "aux_model = WGAN(clip_model,embedding_size,p_emb_dim)\n",
    "WGAN_model = aux_model.load(model_pt_filepath=checkpoints_full_path)"
   ]
  },
  {
   "cell_type": "code",
   "execution_count": null,
   "metadata": {},
   "outputs": [],
   "source": [
    "#for (images, captions, _) in test_loader:\n",
    "for (images, captions, _) in train_loader:\n",
    "\n",
    "    generated_images = WGAN_model.predict(captions)\n",
    "    print(\"generated_images shape {} \".format(generated_images.shape))  # [256, 3, 224, 224]\n",
    "\n",
    "    print(\"Min values : {}  | Max Values : {} | type : {}\".format(generated_images.min().item(),generated_images.max().item(),generated_images.dtype))\n",
    "    show_images(generated_images,num_images=4)\n",
    "\n",
    "    break "
   ]
  },
  {
   "cell_type": "markdown",
   "metadata": {},
   "source": [
    "---------------------"
   ]
  },
  {
   "cell_type": "markdown",
   "metadata": {},
   "source": [
    "# Load model from an epoch and start training from there "
   ]
  },
  {
   "cell_type": "code",
   "execution_count": null,
   "metadata": {},
   "outputs": [],
   "source": [
    "checkpoints_full_path = os.path.join(os.getcwd(), \"checkpoints_WGAN\\WGAN_epoch-1.pt\")\n",
    "aux_model = WGAN(clip_model,embedding_size,p_emb_dim)\n",
    "WGAN_model = aux_model.load(model_pt_filepath=checkpoints_full_path)"
   ]
  },
  {
   "cell_type": "code",
   "execution_count": null,
   "metadata": {},
   "outputs": [],
   "source": [
    "checkpoints_path = os.path.join(os.getcwd(), \"checkpoints_WGAN\")\n",
    "\n",
    "WGAN_model.fit(\n",
    "    train_dataloader = train_loader, \n",
    "    val_dataloader = val_loader,\n",
    "    num_epochs = 1, \n",
    "    save_path=checkpoints_path,\n",
    "    starting_epoch = 1\n",
    ")"
   ]
  }
 ],
 "metadata": {
  "kernelspec": {
   "display_name": "Python 3",
   "language": "python",
   "name": "python3"
  },
  "language_info": {
   "codemirror_mode": {
    "name": "ipython",
    "version": 3
   },
   "file_extension": ".py",
   "mimetype": "text/x-python",
   "name": "python",
   "nbconvert_exporter": "python",
   "pygments_lexer": "ipython3",
   "version": "3.11.1"
  }
 },
 "nbformat": 4,
 "nbformat_minor": 2
}
