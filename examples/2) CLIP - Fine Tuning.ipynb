{
 "cells": [
  {
   "cell_type": "markdown",
   "metadata": {},
   "source": [
    "# How to use CLIPModel and fine tune it"
   ]
  },
  {
   "cell_type": "code",
   "execution_count": 1,
   "metadata": {},
   "outputs": [
    {
     "name": "stderr",
     "output_type": "stream",
     "text": [
      "c:\\Users\\Alex\\AppData\\Local\\Programs\\Python\\Python312\\Lib\\site-packages\\tqdm\\auto.py:21: TqdmWarning: IProgress not found. Please update jupyter and ipywidgets. See https://ipywidgets.readthedocs.io/en/stable/user_install.html\n",
      "  from .autonotebook import tqdm as notebook_tqdm\n"
     ]
    }
   ],
   "source": [
    "import os\n",
    "import sys\n",
    "\n",
    "import clip\n",
    "\n",
    "import torch\n",
    "from torch.utils.data import DataLoader, SubsetRandomSampler\n",
    "import torchvision.transforms as transforms\n",
    "\n",
    "from PIL import Image\n",
    "from tqdm import tqdm\n",
    "\n",
    "import numpy as np\n",
    "import pandas as pd\n",
    "\n",
    "import matplotlib.pyplot as plt\n",
    "\n",
    "module_path = os.path.join(os.getcwd(), '../src')\n",
    "sys.path.append(module_path)\n",
    "\n",
    "from gan_t2i.datasets.DatasetFactory import DatasetFactory\n",
    "from gan_t2i.models.CLIP import CLIPModel"
   ]
  },
  {
   "cell_type": "code",
   "execution_count": 2,
   "metadata": {},
   "outputs": [],
   "source": [
    "\"\"\" \n",
    "Uncomment if you want to compute the mean and the standard deviation\n",
    "\"\"\"\n",
    "if False:\n",
    "    dataset = DatasetFactory.Flowers(os.path.join(os.getcwd(), \"..\", \"data\"), transform_img=transforms.ToTensor())\n",
    "    loader = DataLoader(dataset, batch_size=64, shuffle=False)\n",
    "\n",
    "    # Calcolare media e deviazione standard\n",
    "    mean = 0.0\n",
    "    std = 0.0\n",
    "    nb_samples = 0.0\n",
    "\n",
    "    for images, _, _ in loader:\n",
    "        batch_samples = images.size(0)\n",
    "        images = images.view(batch_samples, images.size(1), -1)\n",
    "        mean += images.mean(2).sum(0)\n",
    "        std += images.std(2).sum(0)\n",
    "        nb_samples += batch_samples\n",
    "\n",
    "    mean /= nb_samples\n",
    "    std /= nb_samples\n",
    "    print(\"mean: \", mean, \"\\nstd: \", std)"
   ]
  },
  {
   "cell_type": "code",
   "execution_count": 3,
   "metadata": {},
   "outputs": [],
   "source": [
    "\"\"\" Image transformations \"\"\"\n",
    "transform_img = transforms.Compose([\n",
    "    transforms.Resize(224, interpolation=Image.BICUBIC),\n",
    "    transforms.CenterCrop(224),\n",
    "    transforms.ToTensor(),\n",
    "    \n",
    "    # Previously computed mean and std\n",
    "    transforms.Normalize([0.4355, 0.3777, 0.2879], [0.2571, 0.2028, 0.2101])\n",
    "])"
   ]
  },
  {
   "cell_type": "code",
   "execution_count": 4,
   "metadata": {},
   "outputs": [],
   "source": [
    "\"\"\" Text Transformation\n",
    "\n",
    "You need to tokenize your text before passing it to the model.\n",
    "\"\"\"\n",
    "def tokenize_text(text):\n",
    "    \n",
    "    # Try except is needed due to error thrown by CLIP model that limit the context size\n",
    "    # to 77 tokens so we need to split the text in smaller chunks and keep only a small portion\n",
    "    # of it if the text is too long\n",
    "    try:\n",
    "        return clip.tokenize([text])[0]\n",
    "    except:\n",
    "        return clip.tokenize([text.split(\".\")[0]])[0]    \n",
    "    "
   ]
  },
  {
   "cell_type": "code",
   "execution_count": 5,
   "metadata": {},
   "outputs": [
    {
     "name": "stdout",
     "output_type": "stream",
     "text": [
      "Captions already downloaded\n",
      "images already downloaded\n",
      "Captions already extracted\n",
      "images already extracted\n",
      "\u001b[92mThe dataset is already stored in HDF5 format\u001b[0m\n"
     ]
    }
   ],
   "source": [
    "dataset = DatasetFactory.Flowers(os.path.join(os.getcwd(), \"..\", \"data\"), transform_img=transform_img, transform_caption=tokenize_text)"
   ]
  },
  {
   "cell_type": "code",
   "execution_count": 6,
   "metadata": {},
   "outputs": [],
   "source": [
    "# Create train, validation and test set     NOTE: We are using small subset of the dataset for this example\n",
    "#                                                 This may and will cause overfitting this is only a demo\n",
    "train_size = int(0.05 * len(dataset))       \n",
    "val_size = int(0.02 * len(dataset))\n",
    "test_size = int(0.02 * len(dataset))\n",
    "\n",
    "# Cration of train, validation and test set indices and samplers\n",
    "train_indices = list(range(train_size))\n",
    "val_indices = list(range(train_size, train_size + val_size))\n",
    "test_indices = list(range(train_size + val_size, train_size + val_size + test_size))\n",
    "\n",
    "train_sampler = SubsetRandomSampler(train_indices)\n",
    "val_sampler = SubsetRandomSampler(val_indices)\n",
    "test_sampler = SubsetRandomSampler(test_indices)\n",
    "\n",
    "# Creation of train, validation and test dataloaders\n",
    "train_loader = DataLoader(dataset, batch_size=64, sampler=train_sampler, pin_memory=True)\n",
    "val_loader = DataLoader(dataset, batch_size=64, sampler=val_sampler, pin_memory=True)\n",
    "test_loader = DataLoader(dataset, batch_size=64, sampler=test_sampler, pin_memory=True)"
   ]
  },
  {
   "cell_type": "code",
   "execution_count": 7,
   "metadata": {},
   "outputs": [
    {
     "name": "stdout",
     "output_type": "stream",
     "text": [
      "Model loaded on device: cuda\n"
     ]
    }
   ],
   "source": [
    "model = CLIPModel() # by default load ViT-B/32"
   ]
  },
  {
   "cell_type": "code",
   "execution_count": 8,
   "metadata": {},
   "outputs": [],
   "source": [
    "checkpoints_path = os.path.join(os.getcwd(), \"checkpoints\")\n",
    "log_path = os.path.join(os.getcwd(), \"logs\")"
   ]
  },
  {
   "cell_type": "code",
   "execution_count": 9,
   "metadata": {},
   "outputs": [
    {
     "name": "stdout",
     "output_type": "stream",
     "text": [
      "Training on device:  cuda\n"
     ]
    },
    {
     "name": "stderr",
     "output_type": "stream",
     "text": [
      "  0%|          | 0/64 [00:00<?, ?it/s]"
     ]
    },
    {
     "name": "stderr",
     "output_type": "stream",
     "text": [
      "c:\\Users\\Alex\\AppData\\Local\\Programs\\Python\\Python312\\Lib\\site-packages\\torch\\nn\\functional.py:5504: UserWarning: 1Torch was not compiled with flash attention. (Triggered internally at ..\\aten\\src\\ATen\\native\\transformers\\cuda\\sdp_utils.cpp:455.)\n",
      "  attn_output = scaled_dot_product_attention(q, k, v, attn_mask, dropout_p, is_causal)\n",
      "Epoch [1/20] Batch [64/64]: Loss: 3.481720: 100%|██████████| 64/64 [00:22<00:00,  2.83it/s]\n",
      "\t=> Validation: 100%|██████████| 26/26 [00:03<00:00,  7.13it/s]\n"
     ]
    },
    {
     "name": "stdout",
     "output_type": "stream",
     "text": [
      "Epoch [1/20] Summary:\n",
      "\t=> Train Loss: 3.481720\n",
      "\t=> Val Loss: 3.469576\n",
      "\n"
     ]
    },
    {
     "name": "stderr",
     "output_type": "stream",
     "text": [
      "Epoch [2/20] Batch [64/64]: Loss: 2.781494: 100%|██████████| 64/64 [00:21<00:00,  2.99it/s]\n",
      "\t=> Validation: 100%|██████████| 26/26 [00:03<00:00,  7.20it/s]\n"
     ]
    },
    {
     "name": "stdout",
     "output_type": "stream",
     "text": [
      "Epoch [2/20] Summary:\n",
      "\t=> Train Loss: 2.781494\n",
      "\t=> Val Loss: 3.267353\n",
      "\n"
     ]
    },
    {
     "name": "stderr",
     "output_type": "stream",
     "text": [
      "Epoch [3/20] Batch [64/64]: Loss: 2.518127: 100%|██████████| 64/64 [00:31<00:00,  2.04it/s]\n",
      "\t=> Validation: 100%|██████████| 26/26 [00:11<00:00,  2.23it/s]\n"
     ]
    },
    {
     "name": "stdout",
     "output_type": "stream",
     "text": [
      "Epoch [3/20] Summary:\n",
      "\t=> Train Loss: 2.518127\n",
      "\t=> Val Loss: 3.619441\n",
      "\n"
     ]
    },
    {
     "name": "stderr",
     "output_type": "stream",
     "text": [
      "Epoch [4/20] Batch [64/64]: Loss: 2.276199: 100%|██████████| 64/64 [00:27<00:00,  2.36it/s]\n",
      "\t=> Validation: 100%|██████████| 26/26 [00:04<00:00,  6.16it/s]\n"
     ]
    },
    {
     "name": "stdout",
     "output_type": "stream",
     "text": [
      "Epoch [4/20] Summary:\n",
      "\t=> Train Loss: 2.276199\n",
      "\t=> Val Loss: 3.669546\n",
      "\n"
     ]
    },
    {
     "name": "stderr",
     "output_type": "stream",
     "text": [
      "Epoch [5/20] Batch [64/64]: Loss: 2.103317: 100%|██████████| 64/64 [00:21<00:00,  2.97it/s]\n",
      "\t=> Validation: 100%|██████████| 26/26 [00:03<00:00,  6.62it/s]\n"
     ]
    },
    {
     "name": "stdout",
     "output_type": "stream",
     "text": [
      "Epoch [5/20] Summary:\n",
      "\t=> Train Loss: 2.103317\n",
      "\t=> Val Loss: 3.657302\n",
      "\n"
     ]
    },
    {
     "name": "stderr",
     "output_type": "stream",
     "text": [
      "Epoch [6/20] Batch [64/64]: Loss: 1.963867: 100%|██████████| 64/64 [00:21<00:00,  3.04it/s]\n",
      "\t=> Validation: 100%|██████████| 26/26 [00:03<00:00,  6.72it/s]\n"
     ]
    },
    {
     "name": "stdout",
     "output_type": "stream",
     "text": [
      "Epoch [6/20] Summary:\n",
      "\t=> Train Loss: 1.963867\n",
      "\t=> Val Loss: 3.898212\n",
      "\n"
     ]
    },
    {
     "name": "stderr",
     "output_type": "stream",
     "text": [
      "Epoch [7/20] Batch [64/64]: Loss: 1.787430: 100%|██████████| 64/64 [00:21<00:00,  3.03it/s]\n",
      "\t=> Validation: 100%|██████████| 26/26 [00:03<00:00,  6.94it/s]\n"
     ]
    },
    {
     "name": "stdout",
     "output_type": "stream",
     "text": [
      "Epoch [7/20] Summary:\n",
      "\t=> Train Loss: 1.787430\n",
      "\t=> Val Loss: 4.398287\n",
      "\n"
     ]
    },
    {
     "name": "stderr",
     "output_type": "stream",
     "text": [
      "Epoch [8/20] Batch [64/64]: Loss: 1.654846: 100%|██████████| 64/64 [00:21<00:00,  3.04it/s]\n",
      "\t=> Validation: 100%|██████████| 26/26 [00:03<00:00,  6.66it/s]\n"
     ]
    },
    {
     "name": "stdout",
     "output_type": "stream",
     "text": [
      "Epoch [8/20] Summary:\n",
      "\t=> Train Loss: 1.654846\n",
      "\t=> Val Loss: 4.188176\n",
      "\n"
     ]
    },
    {
     "name": "stderr",
     "output_type": "stream",
     "text": [
      "Epoch [9/20] Batch [64/64]: Loss: 1.526047: 100%|██████████| 64/64 [00:21<00:00,  3.04it/s]\n",
      "\t=> Validation: 100%|██████████| 26/26 [00:03<00:00,  6.75it/s]\n"
     ]
    },
    {
     "name": "stdout",
     "output_type": "stream",
     "text": [
      "Epoch [9/20] Summary:\n",
      "\t=> Train Loss: 1.526047\n",
      "\t=> Val Loss: 4.678636\n",
      "\n"
     ]
    },
    {
     "name": "stderr",
     "output_type": "stream",
     "text": [
      "Epoch [10/20] Batch [64/64]: Loss: 1.348892: 100%|██████████| 64/64 [00:21<00:00,  3.03it/s]\n",
      "\t=> Validation: 100%|██████████| 26/26 [00:03<00:00,  6.66it/s]\n"
     ]
    },
    {
     "name": "stdout",
     "output_type": "stream",
     "text": [
      "Epoch [10/20] Summary:\n",
      "\t=> Train Loss: 1.348892\n",
      "\t=> Val Loss: 5.205529\n",
      "\n"
     ]
    },
    {
     "name": "stderr",
     "output_type": "stream",
     "text": [
      "Epoch [11/20] Batch [64/64]: Loss: 1.234375: 100%|██████████| 64/64 [00:21<00:00,  3.02it/s]\n",
      "\t=> Validation: 100%|██████████| 26/26 [00:03<00:00,  6.74it/s]\n"
     ]
    },
    {
     "name": "stdout",
     "output_type": "stream",
     "text": [
      "Epoch [11/20] Summary:\n",
      "\t=> Train Loss: 1.234375\n",
      "\t=> Val Loss: 5.554537\n",
      "\n"
     ]
    },
    {
     "name": "stderr",
     "output_type": "stream",
     "text": [
      "Epoch [12/20] Batch [64/64]: Loss: 1.122208: 100%|██████████| 64/64 [00:21<00:00,  3.03it/s]\n",
      "\t=> Validation: 100%|██████████| 26/26 [00:03<00:00,  6.87it/s]\n"
     ]
    },
    {
     "name": "stdout",
     "output_type": "stream",
     "text": [
      "Epoch [12/20] Summary:\n",
      "\t=> Train Loss: 1.122208\n",
      "\t=> Val Loss: 5.332181\n",
      "\n"
     ]
    },
    {
     "name": "stderr",
     "output_type": "stream",
     "text": [
      "Epoch [13/20] Batch [64/64]: Loss: 1.050049: 100%|██████████| 64/64 [00:21<00:00,  3.04it/s]\n",
      "\t=> Validation: 100%|██████████| 26/26 [00:03<00:00,  6.75it/s]\n"
     ]
    },
    {
     "name": "stdout",
     "output_type": "stream",
     "text": [
      "Epoch [13/20] Summary:\n",
      "\t=> Train Loss: 1.050049\n",
      "\t=> Val Loss: 5.077224\n",
      "\n"
     ]
    },
    {
     "name": "stderr",
     "output_type": "stream",
     "text": [
      "Epoch [14/20] Batch [64/64]: Loss: 0.938194: 100%|██████████| 64/64 [00:21<00:00,  3.01it/s]\n",
      "\t=> Validation: 100%|██████████| 26/26 [00:03<00:00,  6.73it/s]\n"
     ]
    },
    {
     "name": "stdout",
     "output_type": "stream",
     "text": [
      "Epoch [14/20] Summary:\n",
      "\t=> Train Loss: 0.938194\n",
      "\t=> Val Loss: 5.411809\n",
      "\n"
     ]
    },
    {
     "name": "stderr",
     "output_type": "stream",
     "text": [
      "Epoch [15/20] Batch [64/64]: Loss: 0.847961: 100%|██████████| 64/64 [00:21<00:00,  3.00it/s]\n",
      "\t=> Validation: 100%|██████████| 26/26 [00:04<00:00,  6.03it/s]\n"
     ]
    },
    {
     "name": "stdout",
     "output_type": "stream",
     "text": [
      "Epoch [15/20] Summary:\n",
      "\t=> Train Loss: 0.847961\n",
      "\t=> Val Loss: 6.061899\n",
      "\n"
     ]
    },
    {
     "name": "stderr",
     "output_type": "stream",
     "text": [
      "Epoch [16/20] Batch [64/64]: Loss: 0.787109: 100%|██████████| 64/64 [00:21<00:00,  2.96it/s]\n",
      "\t=> Validation: 100%|██████████| 26/26 [00:04<00:00,  6.38it/s]\n"
     ]
    },
    {
     "name": "stdout",
     "output_type": "stream",
     "text": [
      "Epoch [16/20] Summary:\n",
      "\t=> Train Loss: 0.787109\n",
      "\t=> Val Loss: 5.983924\n",
      "\n"
     ]
    },
    {
     "name": "stderr",
     "output_type": "stream",
     "text": [
      "Epoch [17/20] Batch [64/64]: Loss: 0.755440: 100%|██████████| 64/64 [00:21<00:00,  3.02it/s]\n",
      "\t=> Validation: 100%|██████████| 26/26 [00:03<00:00,  6.76it/s]\n"
     ]
    },
    {
     "name": "stdout",
     "output_type": "stream",
     "text": [
      "Epoch [17/20] Summary:\n",
      "\t=> Train Loss: 0.755440\n",
      "\t=> Val Loss: 5.684645\n",
      "\n"
     ]
    },
    {
     "name": "stderr",
     "output_type": "stream",
     "text": [
      "Epoch [18/20] Batch [64/64]: Loss: 0.706661: 100%|██████████| 64/64 [00:21<00:00,  3.02it/s]\n",
      "\t=> Validation: 100%|██████████| 26/26 [00:03<00:00,  6.62it/s]\n"
     ]
    },
    {
     "name": "stdout",
     "output_type": "stream",
     "text": [
      "Epoch [18/20] Summary:\n",
      "\t=> Train Loss: 0.706661\n",
      "\t=> Val Loss: 5.826623\n",
      "\n"
     ]
    },
    {
     "name": "stderr",
     "output_type": "stream",
     "text": [
      "Epoch [19/20] Batch [64/64]: Loss: 0.663635: 100%|██████████| 64/64 [00:21<00:00,  3.01it/s]\n",
      "\t=> Validation: 100%|██████████| 26/26 [00:03<00:00,  6.78it/s]\n"
     ]
    },
    {
     "name": "stdout",
     "output_type": "stream",
     "text": [
      "Epoch [19/20] Summary:\n",
      "\t=> Train Loss: 0.663635\n",
      "\t=> Val Loss: 6.194862\n",
      "\n"
     ]
    },
    {
     "name": "stderr",
     "output_type": "stream",
     "text": [
      "Epoch [20/20] Batch [64/64]: Loss: 0.639565: 100%|██████████| 64/64 [00:21<00:00,  3.04it/s]\n",
      "\t=> Validation: 100%|██████████| 26/26 [00:03<00:00,  6.71it/s]\n"
     ]
    },
    {
     "name": "stdout",
     "output_type": "stream",
     "text": [
      "Epoch [20/20] Summary:\n",
      "\t=> Train Loss: 0.639565\n",
      "\t=> Val Loss: 6.056490\n",
      "\n"
     ]
    }
   ],
   "source": [
    "model.fit( \n",
    "    train_dataloader = train_loader, \n",
    "    val_dataloader = val_loader,\n",
    "    num_epochs = 20, \n",
    "    save_path=checkpoints_path\n",
    "    )"
   ]
  },
  {
   "cell_type": "markdown",
   "metadata": {},
   "source": [
    "Plot the metrics saved by the default csv logger"
   ]
  },
  {
   "cell_type": "code",
   "execution_count": 10,
   "metadata": {},
   "outputs": [],
   "source": [
    "csv_filename = \"metrics.csv\"\n",
    "csv_path = os.path.join(log_path, \"CLIPModel\", \"version_0\", csv_filename)\n",
    "\n",
    "metrics = pd.read_csv(csv_path) "
   ]
  },
  {
   "cell_type": "code",
   "execution_count": 11,
   "metadata": {},
   "outputs": [
    {
     "data": {
      "text/html": [
       "<div>\n",
       "<style scoped>\n",
       "    .dataframe tbody tr th:only-of-type {\n",
       "        vertical-align: middle;\n",
       "    }\n",
       "\n",
       "    .dataframe tbody tr th {\n",
       "        vertical-align: top;\n",
       "    }\n",
       "\n",
       "    .dataframe thead th {\n",
       "        text-align: right;\n",
       "    }\n",
       "</style>\n",
       "<table border=\"1\" class=\"dataframe\">\n",
       "  <thead>\n",
       "    <tr style=\"text-align: right;\">\n",
       "      <th></th>\n",
       "      <th>epoch</th>\n",
       "      <th>iteration</th>\n",
       "      <th>loss</th>\n",
       "      <th>step</th>\n",
       "      <th>train_loss</th>\n",
       "      <th>val_loss</th>\n",
       "    </tr>\n",
       "  </thead>\n",
       "  <tbody>\n",
       "    <tr>\n",
       "      <th>0</th>\n",
       "      <td>NaN</td>\n",
       "      <td>1.0</td>\n",
       "      <td>3.722656</td>\n",
       "      <td>0</td>\n",
       "      <td>NaN</td>\n",
       "      <td>NaN</td>\n",
       "    </tr>\n",
       "    <tr>\n",
       "      <th>1</th>\n",
       "      <td>NaN</td>\n",
       "      <td>2.0</td>\n",
       "      <td>4.085938</td>\n",
       "      <td>1</td>\n",
       "      <td>NaN</td>\n",
       "      <td>NaN</td>\n",
       "    </tr>\n",
       "    <tr>\n",
       "      <th>2</th>\n",
       "      <td>NaN</td>\n",
       "      <td>3.0</td>\n",
       "      <td>4.867188</td>\n",
       "      <td>2</td>\n",
       "      <td>NaN</td>\n",
       "      <td>NaN</td>\n",
       "    </tr>\n",
       "    <tr>\n",
       "      <th>3</th>\n",
       "      <td>NaN</td>\n",
       "      <td>4.0</td>\n",
       "      <td>4.148438</td>\n",
       "      <td>3</td>\n",
       "      <td>NaN</td>\n",
       "      <td>NaN</td>\n",
       "    </tr>\n",
       "    <tr>\n",
       "      <th>4</th>\n",
       "      <td>NaN</td>\n",
       "      <td>5.0</td>\n",
       "      <td>4.164062</td>\n",
       "      <td>4</td>\n",
       "      <td>NaN</td>\n",
       "      <td>NaN</td>\n",
       "    </tr>\n",
       "    <tr>\n",
       "      <th>...</th>\n",
       "      <td>...</td>\n",
       "      <td>...</td>\n",
       "      <td>...</td>\n",
       "      <td>...</td>\n",
       "      <td>...</td>\n",
       "      <td>...</td>\n",
       "    </tr>\n",
       "    <tr>\n",
       "      <th>1295</th>\n",
       "      <td>NaN</td>\n",
       "      <td>1277.0</td>\n",
       "      <td>0.605469</td>\n",
       "      <td>1276</td>\n",
       "      <td>NaN</td>\n",
       "      <td>NaN</td>\n",
       "    </tr>\n",
       "    <tr>\n",
       "      <th>1296</th>\n",
       "      <td>NaN</td>\n",
       "      <td>1278.0</td>\n",
       "      <td>0.504883</td>\n",
       "      <td>1277</td>\n",
       "      <td>NaN</td>\n",
       "      <td>NaN</td>\n",
       "    </tr>\n",
       "    <tr>\n",
       "      <th>1297</th>\n",
       "      <td>NaN</td>\n",
       "      <td>1279.0</td>\n",
       "      <td>0.665527</td>\n",
       "      <td>1278</td>\n",
       "      <td>NaN</td>\n",
       "      <td>NaN</td>\n",
       "    </tr>\n",
       "    <tr>\n",
       "      <th>1298</th>\n",
       "      <td>NaN</td>\n",
       "      <td>1280.0</td>\n",
       "      <td>0.632812</td>\n",
       "      <td>1279</td>\n",
       "      <td>NaN</td>\n",
       "      <td>NaN</td>\n",
       "    </tr>\n",
       "    <tr>\n",
       "      <th>1299</th>\n",
       "      <td>20.0</td>\n",
       "      <td>NaN</td>\n",
       "      <td>NaN</td>\n",
       "      <td>64</td>\n",
       "      <td>0.639565</td>\n",
       "      <td>6.05649</td>\n",
       "    </tr>\n",
       "  </tbody>\n",
       "</table>\n",
       "<p>1300 rows × 6 columns</p>\n",
       "</div>"
      ],
      "text/plain": [
       "      epoch  iteration      loss  step  train_loss  val_loss\n",
       "0       NaN        1.0  3.722656     0         NaN       NaN\n",
       "1       NaN        2.0  4.085938     1         NaN       NaN\n",
       "2       NaN        3.0  4.867188     2         NaN       NaN\n",
       "3       NaN        4.0  4.148438     3         NaN       NaN\n",
       "4       NaN        5.0  4.164062     4         NaN       NaN\n",
       "...     ...        ...       ...   ...         ...       ...\n",
       "1295    NaN     1277.0  0.605469  1276         NaN       NaN\n",
       "1296    NaN     1278.0  0.504883  1277         NaN       NaN\n",
       "1297    NaN     1279.0  0.665527  1278         NaN       NaN\n",
       "1298    NaN     1280.0  0.632812  1279         NaN       NaN\n",
       "1299   20.0        NaN       NaN    64    0.639565   6.05649\n",
       "\n",
       "[1300 rows x 6 columns]"
      ]
     },
     "metadata": {},
     "output_type": "display_data"
    }
   ],
   "source": [
    "display(metrics)"
   ]
  },
  {
   "cell_type": "code",
   "execution_count": 12,
   "metadata": {},
   "outputs": [
    {
     "data": {
      "image/png": "[encoded data removed]",
      "text/plain": [
       "<Figure size 1000x500 with 1 Axes>"
      ]
     },
     "metadata": {},
     "output_type": "display_data"
    }
   ],
   "source": [
    "steps = metrics[\"iteration\"].dropna().to_numpy()\n",
    "losses = metrics[\"loss\"].dropna().to_numpy()\n",
    "\n",
    "plt.figure(figsize=(10,5))\n",
    "plt.plot(steps, losses)\n",
    "plt.xlabel(\"Steps\")\n",
    "plt.ylabel(\"Loss\")\n",
    "plt.title(\"Loss over Steps\")\n",
    "plt.grid()\n",
    "plt.show()"
   ]
  },
  {
   "cell_type": "code",
   "execution_count": 13,
   "metadata": {},
   "outputs": [
    {
     "data": {
      "image/png": "[encoded data removed]",
      "text/plain": [
       "<Figure size 1000x500 with 1 Axes>"
      ]
     },
     "metadata": {},
     "output_type": "display_data"
    }
   ],
   "source": [
    "epochs = metrics[\"epoch\"].dropna().to_numpy()\n",
    "tr_losses = metrics[\"train_loss\"].dropna().to_numpy()\n",
    "val_losses = metrics[\"val_loss\"].dropna().to_numpy()\n",
    "\n",
    "plt.figure(figsize=(10,5))\n",
    "plt.plot(epochs, tr_losses)\n",
    "plt.plot(epochs, val_losses)\n",
    "plt.xlabel(\"Epochs\")\n",
    "plt.ylabel(\"Loss\")\n",
    "plt.title(\"Train and Validation Loss over Epochs\")\n",
    "plt.legend([\"Train Loss\", \"Validation Loss\"])\n",
    "plt.grid()\n",
    "plt.show()"
   ]
  },
  {
   "cell_type": "markdown",
   "metadata": {},
   "source": [
    "Load the checkpoint created at the end of epoch w"
   ]
  },
  {
   "cell_type": "code",
   "execution_count": 14,
   "metadata": {},
   "outputs": [
    {
     "name": "stdout",
     "output_type": "stream",
     "text": [
      "Model loaded on device: cuda\n"
     ]
    },
    {
     "data": {
      "text/plain": [
       "<All keys matched successfully>"
      ]
     },
     "execution_count": 14,
     "metadata": {},
     "output_type": "execute_result"
    }
   ],
   "source": [
    "checkpoint_path = os.path.join(checkpoints_path, \"CLIPModel_epoch-2.pt\")\n",
    "loaded_model = CLIPModel.load(checkpoint_path)"
   ]
  },
  {
   "cell_type": "code",
   "execution_count": 15,
   "metadata": {},
   "outputs": [
    {
     "name": "stdout",
     "output_type": "stream",
     "text": [
      "Total test loss:  3.533954326923077\n"
     ]
    }
   ],
   "source": [
    "from gan_t2i.models.CLIP import ContrastiveLoss\n",
    "\n",
    "total_test_loss = 0.0\n",
    "for images, captions, _ in test_loader:\n",
    "    with torch.no_grad():\n",
    "        images = images.to(\"cuda\" if torch.cuda.is_available() else \"cpu\")\n",
    "        captions = captions.to(\"cuda\" if torch.cuda.is_available() else \"cpu\")\n",
    "\n",
    "        # Get the image and text features\n",
    "        image_features = loaded_model.encode_image(images)\n",
    "        text_features = loaded_model.encode_text(captions)\n",
    "        \n",
    "        # Normalize features\n",
    "        image_features = image_features / image_features.norm(dim=-1, keepdim=True)\n",
    "        text_features = text_features / text_features.norm(dim=-1, keepdim=True)\n",
    "\n",
    "        ground_truth = torch.arange(len(images)).to(\"cuda\" if torch.cuda.is_available() else \"cpu\")\n",
    "        total_test_loss += ContrastiveLoss(image_features, text_features).item()\n",
    "    \n",
    "print(\"Total test loss: \", total_test_loss / len(test_loader))"
   ]
  }
 ],
 "metadata": {
  "kernelspec": {
   "display_name": "Python 3",
   "language": "python",
   "name": "python3"
  },
  "language_info": {
   "codemirror_mode": {
    "name": "ipython",
    "version": 3
   },
   "file_extension": ".py",
   "mimetype": "text/x-python",
   "name": "python",
   "nbconvert_exporter": "python",
   "pygments_lexer": "ipython3",
   "version": "3.11.6"
  }
 },
 "nbformat": 4,
 "nbformat_minor": 2
}
