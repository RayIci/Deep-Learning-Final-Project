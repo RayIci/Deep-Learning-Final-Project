{
 "cells": [
  {
   "cell_type": "code",
   "execution_count": 1,
   "metadata": {},
   "outputs": [
    {
     "name": "stderr",
     "output_type": "stream",
     "text": [
      "c:\\Users\\Alex\\AppData\\Local\\Programs\\Python\\Python312\\Lib\\site-packages\\tqdm\\auto.py:21: TqdmWarning: IProgress not found. Please update jupyter and ipywidgets. See https://ipywidgets.readthedocs.io/en/stable/user_install.html\n",
      "  from .autonotebook import tqdm as notebook_tqdm\n"
     ]
    }
   ],
   "source": [
    "import os\n",
    "import sys\n",
    "\n",
    "import clip\n",
    "\n",
    "import torch \n",
    "from torch.utils.data import DataLoader, SubsetRandomSampler\n",
    "import torchvision.transforms as transforms\n",
    "\n",
    "from PIL import Image\n",
    "\n",
    "module_path = os.path.join(os.getcwd(), '../src')\n",
    "sys.path.append(module_path)\n",
    "\n",
    "from gan_t2i.models.GAN_INT_CLS import GAN_INT_CLS\n",
    "from gan_t2i.datasets.DatasetFactory import DatasetFactory\n",
    "from gan_t2i.models.CLIP import CLIPModel\n",
    "from gan_t2i.utils.model_loading import download_CLIP_model, CLIP_DATASETS"
   ]
  },
  {
   "cell_type": "code",
   "execution_count": 2,
   "metadata": {},
   "outputs": [],
   "source": [
    "# Images transformations\n",
    "transform_img = transforms.Compose([\n",
    "    transforms.Resize(64, interpolation=Image.BICUBIC),\n",
    "    transforms.CenterCrop(64),\n",
    "    transforms.ToTensor(),    \n",
    "    transforms.Normalize([0.4355, 0.3777, 0.2879], [0.2571, 0.2028, 0.2101])\n",
    "])\n",
    "\n",
    "# Text transformation (caption tokenizer)\n",
    "def tokenize_text(text):\n",
    "    try:\n",
    "        return clip.tokenize([text])[0]\n",
    "    except:\n",
    "        return clip.tokenize([text.split(\".\")[0]])[0] "
   ]
  },
  {
   "cell_type": "code",
   "execution_count": 3,
   "metadata": {},
   "outputs": [
    {
     "name": "stdout",
     "output_type": "stream",
     "text": [
      "Captions already downloaded\n",
      "images already downloaded\n",
      "Captions already extracted\n",
      "images already extracted\n",
      "\u001b[92mThe dataset is already stored in HDF5 format\u001b[0m\n"
     ]
    }
   ],
   "source": [
    "# Load data\n",
    "data_path = os.path.join(os.getcwd(), \"..\", \"data\") \n",
    "dataset = DatasetFactory.Flowers(data_path, transform_img=transform_img, transform_caption=tokenize_text)"
   ]
  },
  {
   "cell_type": "code",
   "execution_count": 4,
   "metadata": {},
   "outputs": [],
   "source": [
    "# Split data into train, validation and test\n",
    "train_size = int(0.05 * len(dataset))       \n",
    "val_size = int(0.02 * len(dataset))\n",
    "test_size = int(0.02 * len(dataset))\n",
    "\n",
    "# Cration of train, validation and test set indices and samplers\n",
    "train_indices = list(range(train_size))\n",
    "val_indices = list(range(train_size, train_size + val_size))\n",
    "test_indices = list(range(train_size + val_size, train_size + val_size + test_size))\n",
    "\n",
    "train_sampler = SubsetRandomSampler(train_indices)\n",
    "val_sampler = SubsetRandomSampler(val_indices)\n",
    "test_sampler = SubsetRandomSampler(test_indices)\n",
    "\n",
    "# Creation of train, validation and test dataloaders\n",
    "train_loader = DataLoader(dataset, batch_size=64, sampler=train_sampler, pin_memory=True)\n",
    "val_loader = DataLoader(dataset, batch_size=64, sampler=val_sampler, pin_memory=True)\n",
    "test_loader = DataLoader(dataset, batch_size=64, sampler=test_sampler, pin_memory=True)"
   ]
  },
  {
   "cell_type": "code",
   "execution_count": 5,
   "metadata": {},
   "outputs": [
    {
     "name": "stdout",
     "output_type": "stream",
     "text": [
      "\u001b[92mCLIP model FLOWERS already exits at c:\\Users\\Alex\\Documents\\GitHub\\Deep-Learning-Final-Project\\examples\\models_weights\\CLIP\\CLIP~FT_FLOWERS\\CLIP~FT_FLOWERS.pt\u001b[0m\n",
      "Model loaded on device: cuda\n"
     ]
    }
   ],
   "source": [
    "# Get the caption embedding network (our finetuned version of CLIP)\n",
    "checkpoint_path = download_CLIP_model(CLIP_DATASETS.FLOWERS)\n",
    "clip_emb_model = CLIPModel.load(checkpoint_path)"
   ]
  },
  {
   "cell_type": "code",
   "execution_count": 7,
   "metadata": {},
   "outputs": [
    {
     "name": "stderr",
     "output_type": "stream",
     "text": [
      "  0%|          | 0/64 [00:00<?, ?it/s]c:\\Users\\Alex\\AppData\\Local\\Programs\\Python\\Python312\\Lib\\site-packages\\torch\\nn\\functional.py:5504: UserWarning: 1Torch was not compiled with flash attention. (Triggered internally at ..\\aten\\src\\ATen\\native\\transformers\\cuda\\sdp_utils.cpp:455.)\n",
      "  attn_output = scaled_dot_product_attention(q, k, v, attn_mask, dropout_p, is_causal)\n",
      "Epoch [1/3] Batch [64/64]: Loss: 1.572239 |Real Acc.: 0.552766 |Fake Acc.: 0.995361 |Wrong Acc.: 0.551096: 100%|██████████| 64/64 [00:10<00:00,  5.94it/s]\n",
      "Validation => Val Loss: 1.949804 | Real Acc.: 0.293221 | Fake Acc.: 0.934057 | Wrong Acc.: 0.738192: 100%|██████████| 26/26 [00:03<00:00,  7.45it/s]\n"
     ]
    },
    {
     "name": "stdout",
     "output_type": "stream",
     "text": [
      "Epoch [1/3] Summary:\n",
      "  - Train\n",
      "    => Total Loss: 1.572239\n",
      "    => Real Acc: 0.552766\n",
      "    => Fake Acc: 0.995361\n",
      "    => Wrong Acc: 0.551096\n",
      "  - Validation\n",
      "    => Val Loss: 1.949804\n",
      "    => Real Acc: 0.293221\n",
      "    => Fake Acc: 0.934057\n",
      "    => Wrong Acc: 0.738192\n",
      "\n"
     ]
    },
    {
     "name": "stderr",
     "output_type": "stream",
     "text": [
      "Epoch [2/3] Batch [64/64]: Loss: 1.154732 |Real Acc.: 0.761884 |Fake Acc.: 1.000000 |Wrong Acc.: 0.724279: 100%|██████████| 64/64 [00:09<00:00,  6.66it/s]\n",
      "Validation => Val Loss: 2.111688 | Real Acc.: 0.149315 | Fake Acc.: 0.865709 | Wrong Acc.: 0.887669: 100%|██████████| 26/26 [00:03<00:00,  7.68it/s]\n"
     ]
    },
    {
     "name": "stdout",
     "output_type": "stream",
     "text": [
      "Epoch [2/3] Summary:\n",
      "  - Train\n",
      "    => Total Loss: 1.154732\n",
      "    => Real Acc: 0.761884\n",
      "    => Fake Acc: 1.000000\n",
      "    => Wrong Acc: 0.724279\n",
      "  - Validation\n",
      "    => Val Loss: 2.111688\n",
      "    => Real Acc: 0.149315\n",
      "    => Fake Acc: 0.865709\n",
      "    => Wrong Acc: 0.887669\n",
      "\n"
     ]
    },
    {
     "name": "stderr",
     "output_type": "stream",
     "text": [
      "Epoch [3/3] Batch [64/64]: Loss: 0.937709 |Real Acc.: 0.805357 |Fake Acc.: 1.000000 |Wrong Acc.: 0.791638: 100%|██████████| 64/64 [00:09<00:00,  6.58it/s]\n",
      "Validation => Val Loss: 3.094058 | Real Acc.: 0.810632 | Fake Acc.: 0.213569 | Wrong Acc.: 0.202427: 100%|██████████| 26/26 [00:03<00:00,  7.13it/s]"
     ]
    },
    {
     "name": "stdout",
     "output_type": "stream",
     "text": [
      "Epoch [3/3] Summary:\n",
      "  - Train\n",
      "    => Total Loss: 0.937709\n",
      "    => Real Acc: 0.805357\n",
      "    => Fake Acc: 1.000000\n",
      "    => Wrong Acc: 0.791638\n",
      "  - Validation\n",
      "    => Val Loss: 3.094058\n",
      "    => Real Acc: 0.810632\n",
      "    => Fake Acc: 0.213569\n",
      "    => Wrong Acc: 0.202427\n",
      "\n"
     ]
    },
    {
     "name": "stderr",
     "output_type": "stream",
     "text": [
      "\n"
     ]
    }
   ],
   "source": [
    "# Create the GAN-INT-CLS model\n",
    "gan = GAN_INT_CLS(\n",
    "    emb_network=clip_emb_model,\n",
    "    emb_dim=512\n",
    ")\n",
    "\n",
    "gan.fit(train_loader, val_loader, num_epochs=3)"
   ]
  },
  {
   "cell_type": "code",
   "execution_count": 15,
   "metadata": {},
   "outputs": [],
   "source": [
    "cap = dataset[0][1]\n",
    "# cap = tokenize_text(dataset[0][1])\n",
    "\n",
    "image = gan.generate_images(cap)"
   ]
  },
  {
   "cell_type": "code",
   "execution_count": 16,
   "metadata": {},
   "outputs": [],
   "source": [
    "def DeTransformations(image):\n",
    "    return ((image + 1.0) / 2.0) * 255"
   ]
  },
  {
   "cell_type": "code",
   "execution_count": 20,
   "metadata": {},
   "outputs": [
    {
     "data": {
      "text/plain": [
       "<matplotlib.image.AxesImage at 0x29c20e5b710>"
      ]
     },
     "execution_count": 20,
     "metadata": {},
     "output_type": "execute_result"
    },
    {
     "data": {
      "image/png": "[encoded data removed]",
      "text/plain": [
       "<Figure size 640x480 with 1 Axes>"
      ]
     },
     "metadata": {},
     "output_type": "display_data"
    }
   ],
   "source": [
    "import matplotlib.pyplot as plt\n",
    "\n",
    "plt.imshow(transforms.ToPILImage()(DeTransformations(image).squeeze(0)))"
   ]
  }
 ],
 "metadata": {
  "kernelspec": {
   "display_name": "Python 3",
   "language": "python",
   "name": "python3"
  },
  "language_info": {
   "codemirror_mode": {
    "name": "ipython",
    "version": 3
   },
   "file_extension": ".py",
   "mimetype": "text/x-python",
   "name": "python",
   "nbconvert_exporter": "python",
   "pygments_lexer": "ipython3",
   "version": "3.12.3"
  }
 },
 "nbformat": 4,
 "nbformat_minor": 2
}
